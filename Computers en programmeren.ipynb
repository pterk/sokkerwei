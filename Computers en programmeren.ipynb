{
 "cells": [
  {
   "cell_type": "markdown",
   "metadata": {},
   "source": [
    "#  Inhoud\n",
    "\n",
    "## Demo\n",
    "## Korte geschiedenis\n",
    "## Nu\n",
    "## Toekomst\n",
    "## Probleem"
   ]
  },
  {
   "cell_type": "code",
   "execution_count": 2,
   "metadata": {
    "collapsed": false
   },
   "outputs": [
    {
     "name": "stdout",
     "output_type": "stream",
     "text": [
      "Hello world!\n"
     ]
    }
   ],
   "source": [
    "print(\"Hello world!\")"
   ]
  },
  {
   "cell_type": "code",
   "execution_count": 3,
   "metadata": {
    "collapsed": false
   },
   "outputs": [
    {
     "name": "stdout",
     "output_type": "stream",
     "text": [
      "Hallo groep 8!\n"
     ]
    }
   ],
   "source": [
    "print(\"Hallo groep 8!\")"
   ]
  },
  {
   "cell_type": "code",
   "execution_count": 5,
   "metadata": {
    "collapsed": false
   },
   "outputs": [
    {
     "name": "stdout",
     "output_type": "stream",
     "text": [
      "Hallo wat?Meester Armand\n",
      "Hallo Meester Armand\n"
     ]
    }
   ],
   "source": [
    "print(\"Hallo {}\".format(input(\"Hallo wat?\")))\n"
   ]
  },
  {
   "cell_type": "code",
   "execution_count": 7,
   "metadata": {
    "collapsed": false
   },
   "outputs": [
    {
     "name": "stdout",
     "output_type": "stream",
     "text": [
      "a\n",
      "b\n",
      "c\n"
     ]
    }
   ],
   "source": [
    "for letter in \"abc\":\n",
    "    print(letter)"
   ]
  },
  {
   "cell_type": "code",
   "execution_count": 9,
   "metadata": {
    "collapsed": false
   },
   "outputs": [
    {
     "name": "stdout",
     "output_type": "stream",
     "text": [
      "5 is groter dan 3, duh!\n"
     ]
    }
   ],
   "source": [
    "if 5 > 3:\n",
    "    print(\"5 is groter dan 3, duh!\")"
   ]
  },
  {
   "cell_type": "code",
   "execution_count": 11,
   "metadata": {
    "collapsed": false
   },
   "outputs": [
    {
     "name": "stdout",
     "output_type": "stream",
     "text": [
      "1\n",
      "2\n",
      "Fizz\n",
      "4\n",
      "Buzz\n",
      "Fizz\n",
      "7\n",
      "8\n",
      "Fizz\n",
      "Buzz\n",
      "11\n",
      "Fizz\n",
      "13\n",
      "14\n",
      "FizzBuzz\n",
      "16\n",
      "17\n",
      "Fizz\n",
      "19\n",
      "Buzz\n",
      "Fizz\n",
      "22\n",
      "23\n",
      "Fizz\n",
      "Buzz\n",
      "26\n",
      "Fizz\n",
      "28\n",
      "29\n",
      "FizzBuzz\n",
      "31\n",
      "32\n",
      "Fizz\n",
      "34\n",
      "Buzz\n",
      "Fizz\n",
      "37\n",
      "38\n",
      "Fizz\n",
      "Buzz\n",
      "41\n",
      "Fizz\n",
      "43\n",
      "44\n",
      "FizzBuzz\n",
      "46\n",
      "47\n",
      "Fizz\n",
      "49\n",
      "Buzz\n",
      "Fizz\n",
      "52\n",
      "53\n",
      "Fizz\n",
      "Buzz\n",
      "56\n",
      "Fizz\n",
      "58\n",
      "59\n",
      "FizzBuzz\n",
      "61\n",
      "62\n",
      "Fizz\n",
      "64\n",
      "Buzz\n",
      "Fizz\n",
      "67\n",
      "68\n",
      "Fizz\n",
      "Buzz\n",
      "71\n",
      "Fizz\n",
      "73\n",
      "74\n",
      "FizzBuzz\n",
      "76\n",
      "77\n",
      "Fizz\n",
      "79\n",
      "Buzz\n",
      "Fizz\n",
      "82\n",
      "83\n",
      "Fizz\n",
      "Buzz\n",
      "86\n",
      "Fizz\n",
      "88\n",
      "89\n",
      "FizzBuzz\n",
      "91\n",
      "92\n",
      "Fizz\n",
      "94\n",
      "Buzz\n",
      "Fizz\n",
      "97\n",
      "98\n",
      "Fizz\n",
      "Buzz\n"
     ]
    }
   ],
   "source": [
    "for i in range(1,101):\n",
    "    if i % 3 == 0 and i % 5 == 0:\n",
    "        print(\"FizzBuzz\")\n",
    "    elif i % 3 == 0:\n",
    "        print(\"Fizz\")\n",
    "    elif i % 5 == 0:\n",
    "        print(\"Buzz\")\n",
    "    else:\n",
    "        print(i)\n"
   ]
  },
  {
   "cell_type": "markdown",
   "metadata": {},
   "source": [
    "\n"
   ]
  },
  {
   "cell_type": "code",
   "execution_count": 59,
   "metadata": {
    "collapsed": false
   },
   "outputs": [],
   "source": [
    "def tafel_van(n, tot=12):\n",
    "    for i in range(1, tot+1):\n",
    "        print(\"{} x {} = {}\".format(str(i).rjust(2, ' '), n, str(i*n).rjust(10, ' ')))"
   ]
  },
  {
   "cell_type": "code",
   "execution_count": 62,
   "metadata": {
    "collapsed": false
   },
   "outputs": [
    {
     "name": "stdout",
     "output_type": "stream",
     "text": [
      " 1 x 331178233 =  331178233\n",
      " 2 x 331178233 =  662356466\n",
      " 3 x 331178233 =  993534699\n",
      " 4 x 331178233 = 1324712932\n",
      " 5 x 331178233 = 1655891165\n",
      " 6 x 331178233 = 1987069398\n",
      " 7 x 331178233 = 2318247631\n",
      " 8 x 331178233 = 2649425864\n",
      " 9 x 331178233 = 2980604097\n",
      "10 x 331178233 = 3311782330\n",
      "11 x 331178233 = 3642960563\n",
      "12 x 331178233 = 3974138796\n"
     ]
    }
   ],
   "source": [
    "tafel_van(331178233)"
   ]
  },
  {
   "cell_type": "markdown",
   "metadata": {},
   "source": [
    "# Korte Geschiedenis\n",
    "\n",
    "Grieken/Romeinen hadden aparaat dat de stand van de zon/maan en zons- / maansverduistering kon berekenen\n",
    "\n",
    "Weefgetouwen met patronen\n",
    "\n",
    "Pascal Rekenmachine 1642 (20 stuks)\n",
    "\n",
    "Charles Babbage 19e eeuw ('Computers' waren mensen, mensen maken fouten -> mechanisme om tabellen af te drukken)\n",
    "\n",
    "Ada Lovelace first programmer\n",
    "\n",
    "ENIAC: eerste moderne computer: programmeurs waren vrouwen\n",
    "\n",
    "Turing en Joan Clarke\n",
    "\n",
    "Grace Hopper\n",
    "\n",
    "Margaret Hamilton\n",
    "\n",
    "![Appolo 11 code](https://upload.wikimedia.org/wikipedia/commons/2/2e/Margaret_Hamilton.gif)"
   ]
  },
  {
   "cell_type": "markdown",
   "metadata": {},
   "source": [
    "# Nu\n",
    "\n",
    "Computers zijn overal en al die computers worden geprogrammeerd:\n",
    "\n",
    "Computers\n",
    "Telefoons\n",
    "Autos\n",
    "Wasmachines\n",
    "Koelkasten\n",
    "\n",
    "Games\n",
    "Film\n",
    "\n",
    "Dieven\n"
   ]
  },
  {
   "cell_type": "markdown",
   "metadata": {},
   "source": [
    "# Toekomst\n",
    "\n",
    "The internet of Things\n",
    "Cyborg\n"
   ]
  },
  {
   "cell_type": "code",
   "execution_count": null,
   "metadata": {
    "collapsed": true
   },
   "outputs": [],
   "source": [
    "# Probleem oplossen\n",
    "\n",
    "232\n",
    " 89\n",
    "---\n",
    "???\n",
    "\n",
    "# Opdelen in kleine problemen\n",
    "\n",
    "2+9 = 11     -> 1 met rest 1\n",
    "3+8 + 1 = 12 -> 2 met rest 1\n",
    "2+0 + 1 = 3  -> 321"
   ]
  },
  {
   "cell_type": "code",
   "execution_count": null,
   "metadata": {
    "collapsed": true
   },
   "outputs": [],
   "source": []
  },
  {
   "cell_type": "markdown",
   "metadata": {},
   "source": [
    "# Probleem\n",
    "\n",
    "Diversiteit."
   ]
  }
 ],
 "metadata": {
  "kernelspec": {
   "display_name": "Python 3",
   "language": "python",
   "name": "python3"
  },
  "language_info": {
   "codemirror_mode": {
    "name": "ipython",
    "version": 3
   },
   "file_extension": ".py",
   "mimetype": "text/x-python",
   "name": "python",
   "nbconvert_exporter": "python",
   "pygments_lexer": "ipython3",
   "version": "3.5.1"
  }
 },
 "nbformat": 4,
 "nbformat_minor": 0
}
