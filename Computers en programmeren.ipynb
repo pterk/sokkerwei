{
 "cells": [
  {
   "cell_type": "markdown",
   "metadata": {},
   "source": [
    "#  Inhoud\n",
    "\n",
    "## Demo\n",
    "## Korte geschiedenis\n",
    "## Nu\n",
    "## Toekomst\n",
    "## Probleem"
   ]
  },
  {
   "cell_type": "code",
   "execution_count": 2,
   "metadata": {
    "collapsed": false
   },
   "outputs": [
    {
     "name": "stdout",
     "output_type": "stream",
     "text": [
      "Hello world!\n"
     ]
    }
   ],
   "source": [
    "print(\"Hello world!\")"
   ]
  },
  {
   "cell_type": "code",
   "execution_count": 3,
   "metadata": {
    "collapsed": false
   },
   "outputs": [
    {
     "name": "stdout",
     "output_type": "stream",
     "text": [
      "Hallo groep 8!\n"
     ]
    }
   ],
   "source": [
    "print(\"Hallo groep 8!\")"
   ]
  },
  {
   "cell_type": "code",
   "execution_count": 1,
   "metadata": {
    "collapsed": false
   },
   "outputs": [
    {
     "name": "stdout",
     "output_type": "stream",
     "text": [
      "Hallo wat?Meester Armand!\n",
      "Hallo Meester Armand!\n"
     ]
    }
   ],
   "source": [
    "print(\"Hallo {}\".format(input(\"Hallo wat?\")))\n"
   ]
  },
  {
   "cell_type": "code",
   "execution_count": 7,
   "metadata": {
    "collapsed": false
   },
   "outputs": [
    {
     "name": "stdout",
     "output_type": "stream",
     "text": [
      "a\n",
      "b\n",
      "c\n"
     ]
    }
   ],
   "source": [
    "for letter in \"abc\":\n",
    "    print(letter)"
   ]
  },
  {
   "cell_type": "code",
   "execution_count": 2,
   "metadata": {
    "collapsed": false
   },
   "outputs": [
    {
     "name": "stdout",
     "output_type": "stream",
     "text": [
      "5 is groter dan 3, duh!\n"
     ]
    }
   ],
   "source": [
    "if 5 > 3:\n",
    "    print(\"5 is groter dan 3, duh!\")\n",
    "else:\n",
    "    print(\"Dit wordt nooit geprint.\")"
   ]
  },
  {
   "cell_type": "code",
   "execution_count": 4,
   "metadata": {
    "collapsed": false
   },
   "outputs": [
    {
     "name": "stdout",
     "output_type": "stream",
     "text": [
      "1\n",
      "2\n"
     ]
    }
   ],
   "source": [
    "for i in range(1,3):\n",
    "    if i % 3 == 0 and i % 5 == 0:\n",
    "        print(\"FizzBuzz\")\n",
    "    elif i % 3 == 0:\n",
    "        print(\"Fizz\")\n",
    "    elif i % 5 == 0:\n",
    "        print(\"Buzz\")\n",
    "    else:\n",
    "        print(i)\n"
   ]
  },
  {
   "cell_type": "markdown",
   "metadata": {},
   "source": [
    "\n"
   ]
  },
  {
   "cell_type": "code",
   "execution_count": 6,
   "metadata": {
    "collapsed": false
   },
   "outputs": [],
   "source": [
    "def tafel_van(n, tot=12):\n",
    "    for i in range(1, tot+1):\n",
    "        print(\"{} x {} = {}\".format(str(i).rjust(2, ' '), n, str(i*n).rjust(10, ' ')))"
   ]
  },
  {
   "cell_type": "code",
   "execution_count": 7,
   "metadata": {
    "collapsed": false
   },
   "outputs": [
    {
     "name": "stdout",
     "output_type": "stream",
     "text": [
      " 1 x 3 =          3\n",
      " 2 x 3 =          6\n",
      " 3 x 3 =          9\n",
      " 4 x 3 =         12\n",
      " 5 x 3 =         15\n",
      " 6 x 3 =         18\n",
      " 7 x 3 =         21\n",
      " 8 x 3 =         24\n",
      " 9 x 3 =         27\n",
      "10 x 3 =         30\n",
      "11 x 3 =         33\n",
      "12 x 3 =         36\n"
     ]
    }
   ],
   "source": [
    "tafel_van(3)"
   ]
  },
  {
   "cell_type": "markdown",
   "metadata": {},
   "source": [
    "# Korte Geschiedenis\n",
    "\n",
    "Grieken/Romeinen hadden aparaat dat de stand van de zon/maan en zons- / maansverduistering kon berekenen\n",
    "\n",
    "Weefgetouwen met patronen\n",
    "\n",
    "Pascal Rekenmachine 1642 (20 stuks)\n",
    "\n",
    "Charles Babbage 19e eeuw ('Computers' waren mensen, mensen maken fouten -> mechanisme om tabellen af te drukken)\n",
    "\n",
    "Ada Lovelace first programmer\n",
    "\n",
    "von Neuman en Turing\n",
    "\n",
    "ENIAC: eerste moderne computer: programmeurs waren vrouwen\n",
    "\n",
    "Turing en Joan Clarke\n",
    "\n",
    "Microchip / Transistor. \n",
    "\n",
    "Grace Hopper\n",
    "\n",
    "Margaret Hamilton\n",
    "\n",
    "![Appolo 11 code](https://upload.wikimedia.org/wikipedia/commons/2/2e/Margaret_Hamilton.gif)\n",
    "\n",
    "Apple en Microsoft\n",
    "Linux\n",
    "WWW\n",
    "Smartphone\n"
   ]
  },
  {
   "cell_type": "markdown",
   "metadata": {},
   "source": [
    "# Nu\n",
    "\n",
    "Computers zijn overal en al die computers worden geprogrammeerd:\n",
    "\n",
    "(Super) Computers\n",
    "Laptops\n",
    "Tablets\n",
    "Telefoons\n",
    "Autos\n",
    "Wasmachines\n",
    "Koelkasten\n",
    "\n",
    "Games\n",
    "Film\n"
   ]
  },
  {
   "cell_type": "markdown",
   "metadata": {},
   "source": [
    "# Toekomst\n",
    "\n",
    "The internet of Things\n",
    "Cyborg\n"
   ]
  },
  {
   "cell_type": "markdown",
   "metadata": {},
   "source": [
    "# Wat is programmeren?\n",
    "\n",
    "For-loops en if statements \n",
    "\n",
    "Loop: Voor elk ding in een lijst of 'doe totdat...'  \n",
    "If-statement Als dit dan dat, (of) anders \n",
    "\n",
    "Computers zijn dom. 0 en 1 / aan of uit \n",
    "Een heleboel slimme mensen hebben het makkelijk gemaakt voor gewone mensen om de computer een opdracht te geven\n",
    "machinetaal --> voor elke chip anders -> compilers --> algemene instructies + makkelijker voor mensen -> moderne talen (beveiliging tegen veel voorkomende fouten)\n",
    "\n",
    "Als je problemen op kunt delen in kleine problemen doe je hetzelfde als programeren.\n"
   ]
  },
  {
   "cell_type": "code",
   "execution_count": null,
   "metadata": {
    "collapsed": true
   },
   "outputs": [],
   "source": [
    "# Probleem oplossen\n",
    "\n",
    "232\n",
    " 89\n",
    "---\n",
    "???\n",
    "\n",
    "# Opdelen in kleine problemen\n",
    "\n",
    "2+9 = 11     -> 1 met rest 1\n",
    "3+8 + 1 = 12 -> 2 met rest 1\n",
    "2+0 + 1 = 3  -> 321\n",
    "\n",
    "\n",
    "125122\n",
    "824212\n",
    "124350\n",
    "747434\n",
    "347346\n",
    "653843\n",
    "------\n",
    "??????\n",
    "\n",
    "2+2+0+4+6+3 = 17\n",
    "1 + 2+1+ ... Ja doei!\n",
    "\n",
    "Daar zijn computers goed in.\n",
    "\n",
    "Hoe?\n"
   ]
  },
  {
   "cell_type": "code",
   "execution_count": 9,
   "metadata": {
    "collapsed": true
   },
   "outputs": [],
   "source": [
    "class OngeldigeInvoer(Exception):\n",
    "    pass\n",
    "\n",
    "\n",
    "def controleer_invoer(tekenreeks):\n",
    "    regels = tekenreeks.split(\"\\n\")\n",
    "    lengte = 0\n",
    "    for regel in regels:\n",
    "        if not regel:\n",
    "            continue\n",
    "        try:\n",
    "            waarde = int(regel) # flake8: noqa\n",
    "            if len(regel) > lengte:\n",
    "                lengte = len(regel)\n",
    "        except ValueError:\n",
    "            raise OngeldigeInvoer(regel)\n",
    "    padded_regels = []\n",
    "    for regel in regels:\n",
    "        padded_regels.append(regel.rjust(lengte, \"0\"))\n",
    "    return lengte, padded_regels"
   ]
  },
  {
   "cell_type": "markdown",
   "metadata": {},
   "source": [
    "# Probleem\n",
    "\n",
    "Niet genoeg programmeurs -- niet genoeg vrouwen\n"
   ]
  },
  {
   "cell_type": "code",
   "execution_count": 42,
   "metadata": {
    "collapsed": false
   },
   "outputs": [],
   "source": [
    "def tel_op(tekenreeks):\n",
    "    lengte, regels = controleer_invoer(tekenreeks)\n",
    "    uitkomst = \"\"\n",
    "    print(lengte, regels)\n",
    "    print()\n",
    "    rij = 0\n",
    "    rest = 0\n",
    "    for kolom in range(lengte):\n",
    "        som = 0\n",
    "        for regel in regels:\n",
    "            totaal = 0\n",
    "            cijfer = regel[len(regel)-1-kolom]\n",
    "            print(cijfer)\n",
    "            som = som + int(cijfer)\n",
    "            rij = rij + 1\n",
    "        som = som + rest\n",
    "        som = str(som)\n",
    "        print(\"---\")\n",
    "        print(som)\n",
    "        print()\n",
    "        # Nu jullie ...\n",
    "        "
   ]
  },
  {
   "cell_type": "code",
   "execution_count": 43,
   "metadata": {
    "collapsed": false
   },
   "outputs": [
    {
     "name": "stdout",
     "output_type": "stream",
     "text": [
      "3 ['142', '382']\n",
      "\n",
      "2\n",
      "2\n",
      "---\n",
      "4\n",
      "\n",
      "4\n",
      "8\n",
      "---\n",
      "12\n",
      "\n",
      "1\n",
      "3\n",
      "---\n",
      "4\n",
      "\n"
     ]
    }
   ],
   "source": [
    "tel_op(\"\"\"142\n",
    "382\"\"\")"
   ]
  },
  {
   "cell_type": "code",
   "execution_count": null,
   "metadata": {
    "collapsed": true
   },
   "outputs": [],
   "source": [
    "# Samenvatting\n",
    "\n",
    "1. Programmeren is niet voor iedereeen maar ook niet moeilijk\n",
    "2. Er zijn heel veel programmeurs nodig\n",
    "3. Vrouwen kunnen ook programmeren"
   ]
  }
 ],
 "metadata": {
  "kernelspec": {
   "display_name": "Python 3",
   "language": "python",
   "name": "python3"
  },
  "language_info": {
   "codemirror_mode": {
    "name": "ipython",
    "version": 3
   },
   "file_extension": ".py",
   "mimetype": "text/x-python",
   "name": "python",
   "nbconvert_exporter": "python",
   "pygments_lexer": "ipython3",
   "version": "3.5.1"
  }
 },
 "nbformat": 4,
 "nbformat_minor": 0
}
